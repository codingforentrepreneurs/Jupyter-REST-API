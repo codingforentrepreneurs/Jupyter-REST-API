{
 "cells": [
  {
   "cell_type": "code",
   "execution_count": 1,
   "id": "e5a6d86c",
   "metadata": {
    "execution": {
     "iopub.execute_input": "2021-04-12T21:48:08.507209Z",
     "iopub.status.busy": "2021-04-12T21:48:08.506341Z",
     "iopub.status.idle": "2021-04-12T21:48:08.508436Z",
     "shell.execute_reply": "2021-04-12T21:48:08.509071Z"
    },
    "papermill": {
     "duration": 0.017363,
     "end_time": "2021-04-12T21:48:08.509392",
     "exception": false,
     "start_time": "2021-04-12T21:48:08.492029",
     "status": "completed"
    },
    "tags": [
     "parameters"
    ]
   },
   "outputs": [],
   "source": [
    "YEAR = None"
   ]
  },
  {
   "cell_type": "code",
   "execution_count": 2,
   "id": "ca6dab57",
   "metadata": {
    "execution": {
     "iopub.execute_input": "2021-04-12T21:48:08.522879Z",
     "iopub.status.busy": "2021-04-12T21:48:08.522288Z",
     "iopub.status.idle": "2021-04-12T21:48:08.524030Z",
     "shell.execute_reply": "2021-04-12T21:48:08.524532Z"
    },
    "papermill": {
     "duration": 0.009919,
     "end_time": "2021-04-12T21:48:08.524710",
     "exception": false,
     "start_time": "2021-04-12T21:48:08.514791",
     "status": "completed"
    },
    "tags": [
     "injected-parameters"
    ]
   },
   "outputs": [],
   "source": [
    "# Parameters\n",
    "YEAR = 2008\n"
   ]
  },
  {
   "cell_type": "code",
   "execution_count": 3,
   "id": "2767ab01",
   "metadata": {
    "execution": {
     "iopub.execute_input": "2021-04-12T21:48:08.538065Z",
     "iopub.status.busy": "2021-04-12T21:48:08.537484Z",
     "iopub.status.idle": "2021-04-12T21:48:08.539148Z",
     "shell.execute_reply": "2021-04-12T21:48:08.539705Z"
    },
    "papermill": {
     "duration": 0.010211,
     "end_time": "2021-04-12T21:48:08.539914",
     "exception": false,
     "start_time": "2021-04-12T21:48:08.529703",
     "status": "completed"
    },
    "tags": []
   },
   "outputs": [],
   "source": [
    "arg_year = YEAR if isinstance(YEAR, int) else 1999"
   ]
  },
  {
   "cell_type": "code",
   "execution_count": 4,
   "id": "0125fb4a",
   "metadata": {
    "execution": {
     "iopub.execute_input": "2021-04-12T21:48:08.553641Z",
     "iopub.status.busy": "2021-04-12T21:48:08.552632Z",
     "iopub.status.idle": "2021-04-12T21:48:08.554967Z",
     "shell.execute_reply": "2021-04-12T21:48:08.555539Z"
    },
    "papermill": {
     "duration": 0.010791,
     "end_time": "2021-04-12T21:48:08.555724",
     "exception": false,
     "start_time": "2021-04-12T21:48:08.544933",
     "status": "completed"
    },
    "tags": []
   },
   "outputs": [],
   "source": [
    "# !pip install requests requests-html pandas"
   ]
  },
  {
   "cell_type": "code",
   "execution_count": 5,
   "id": "3bc67ff0",
   "metadata": {
    "execution": {
     "iopub.execute_input": "2021-04-12T21:48:08.569388Z",
     "iopub.status.busy": "2021-04-12T21:48:08.568754Z",
     "iopub.status.idle": "2021-04-12T21:48:09.020023Z",
     "shell.execute_reply": "2021-04-12T21:48:09.020644Z"
    },
    "papermill": {
     "duration": 0.460074,
     "end_time": "2021-04-12T21:48:09.020943",
     "exception": false,
     "start_time": "2021-04-12T21:48:08.560869",
     "status": "completed"
    },
    "tags": []
   },
   "outputs": [],
   "source": [
    "from dataclasses import dataclass\n",
    "import pathlib\n",
    "import pandas as pd\n",
    "import requests\n",
    "from requests_html import HTML"
   ]
  },
  {
   "cell_type": "code",
   "execution_count": 6,
   "id": "b0f1fdba",
   "metadata": {
    "execution": {
     "iopub.execute_input": "2021-04-12T21:48:09.045016Z",
     "iopub.status.busy": "2021-04-12T21:48:09.044308Z",
     "iopub.status.idle": "2021-04-12T21:48:09.046130Z",
     "shell.execute_reply": "2021-04-12T21:48:09.046582Z"
    },
    "papermill": {
     "duration": 0.02034,
     "end_time": "2021-04-12T21:48:09.046756",
     "exception": false,
     "start_time": "2021-04-12T21:48:09.026416",
     "status": "completed"
    },
    "tags": []
   },
   "outputs": [],
   "source": [
    "@dataclass\n",
    "class ScrapeBoxOffice:\n",
    "    base_endpoint:str = \"https://www.boxofficemojo.com/year/world/\"\n",
    "    year:int = None\n",
    "    save_raw:bool = False\n",
    "    save:bool = False\n",
    "    output_dir: str = \".\"\n",
    "    table_selector: str = '.imdb-scroll-table'\n",
    "    table_data = []\n",
    "    table_header_names = []\n",
    "    df = pd.DataFrame()\n",
    "    \n",
    "    @property\n",
    "    def name(self):\n",
    "        return self.year if isinstance(self.year, int) else 'world'\n",
    "    \n",
    "    def get_endpoint(self):\n",
    "        endpoint = self.base_endpoint\n",
    "        if isinstance(self.year, int):\n",
    "            endpoint = f\"{endpoint}{self.year}/\"\n",
    "        return endpoint\n",
    "    \n",
    "    def get_output_dir(self):\n",
    "        return pathlib.Path(self.output_dir)\n",
    "    \n",
    "    def extract_html_str(self, endpoint=None):\n",
    "        url = endpoint if endpoint is not None else self.get_endpoint()\n",
    "        r = requests.get(url, stream=True)\n",
    "        html_text = None\n",
    "        status = r.status_code\n",
    "        if r.status_code == 200:\n",
    "            html_text = r.text\n",
    "            if self.save_raw:\n",
    "                output_fname = f\"{self.name}.html\"\n",
    "                raw_output_dir = self.get_output_dir() / 'html'\n",
    "                raw_output_dir.mkdir(exist_ok=True, parents=True)\n",
    "                output_fname = raw_output_dir / output_fname\n",
    "                with open(f\"{output_fname}\", 'w') as f:\n",
    "                    f.write(html_text)\n",
    "            return html_text, status\n",
    "        return html_text, status\n",
    "    \n",
    "    def parse_html(self, html_str=''):\n",
    "        r_html = HTML(html=html_str)\n",
    "        r_table = r_html.find(self.table_selector)\n",
    "        if len(r_table) == 0:\n",
    "            return None\n",
    "        table_data = []\n",
    "        header_names = []\n",
    "        parsed_table = r_table[0]\n",
    "        rows = parsed_table.find(\"tr\")\n",
    "        header_row = rows[0]\n",
    "        header_cols = header_row.find('th')\n",
    "        header_names = [x.text for x in header_cols]\n",
    "        for row in rows[1:]:\n",
    "            cols = row.find(\"td\")\n",
    "            row_data = []\n",
    "            row_dict_data = {}\n",
    "            for i, col in enumerate(cols):\n",
    "                header_name = header_names[i]\n",
    "                row_data.append(col.text)\n",
    "            table_data.append(row_data)\n",
    "        self.table_data = table_data\n",
    "        self.table_header_names = header_names\n",
    "        return self.table_data, self.table_header_names\n",
    "    \n",
    "    def to_df(self, data=[], columns=[]):\n",
    "        return pd.DataFrame(data, columns=columns)\n",
    "    \n",
    "    def run(self, save=False):\n",
    "        save = self.save if save is False else save\n",
    "        endpoint = self.get_endpoint()\n",
    "        html_str, status = self.extract_html_str(endpoint=endpoint)\n",
    "        if status not in range(200, 299):\n",
    "            raise Exception(f\"Extraction failed, endpoint status {status} at {endpoint}\")\n",
    "        data, headers = self.parse_html(html_str if html_str is not None else '')\n",
    "        df = self.to_df(data=data, columns=headers)\n",
    "        self.df = df\n",
    "        if save:\n",
    "            filepath = self.get_output_dir() / f'{self.name}.csv'\n",
    "            df.to_csv(filepath, index=False)\n",
    "        return self.df"
   ]
  },
  {
   "cell_type": "code",
   "execution_count": 7,
   "id": "7f053706",
   "metadata": {
    "execution": {
     "iopub.execute_input": "2021-04-12T21:48:09.060983Z",
     "iopub.status.busy": "2021-04-12T21:48:09.060269Z",
     "iopub.status.idle": "2021-04-12T21:48:27.690830Z",
     "shell.execute_reply": "2021-04-12T21:48:27.691252Z"
    },
    "papermill": {
     "duration": 18.639281,
     "end_time": "2021-04-12T21:48:27.691477",
     "exception": false,
     "start_time": "2021-04-12T21:48:09.052196",
     "status": "completed"
    },
    "tags": []
   },
   "outputs": [
    {
     "data": {
      "text/html": [
       "<div>\n",
       "<style scoped>\n",
       "    .dataframe tbody tr th:only-of-type {\n",
       "        vertical-align: middle;\n",
       "    }\n",
       "\n",
       "    .dataframe tbody tr th {\n",
       "        vertical-align: top;\n",
       "    }\n",
       "\n",
       "    .dataframe thead th {\n",
       "        text-align: right;\n",
       "    }\n",
       "</style>\n",
       "<table border=\"1\" class=\"dataframe\">\n",
       "  <thead>\n",
       "    <tr style=\"text-align: right;\">\n",
       "      <th></th>\n",
       "      <th>Rank</th>\n",
       "      <th>Release Group</th>\n",
       "      <th>Worldwide</th>\n",
       "      <th>Domestic</th>\n",
       "      <th>%</th>\n",
       "      <th>Foreign</th>\n",
       "      <th>%</th>\n",
       "    </tr>\n",
       "  </thead>\n",
       "  <tbody>\n",
       "    <tr>\n",
       "      <th>0</th>\n",
       "      <td>1</td>\n",
       "      <td>The Dark Knight</td>\n",
       "      <td>$1,003,045,358</td>\n",
       "      <td>$533,345,358</td>\n",
       "      <td>53.2%</td>\n",
       "      <td>$469,700,000</td>\n",
       "      <td>46.8%</td>\n",
       "    </tr>\n",
       "    <tr>\n",
       "      <th>1</th>\n",
       "      <td>2</td>\n",
       "      <td>Indiana Jones and the Kingdom of the Crystal S...</td>\n",
       "      <td>$790,653,942</td>\n",
       "      <td>$317,101,119</td>\n",
       "      <td>40.1%</td>\n",
       "      <td>$473,552,823</td>\n",
       "      <td>59.9%</td>\n",
       "    </tr>\n",
       "    <tr>\n",
       "      <th>2</th>\n",
       "      <td>3</td>\n",
       "      <td>Kung Fu Panda</td>\n",
       "      <td>$631,744,560</td>\n",
       "      <td>$215,434,591</td>\n",
       "      <td>34.1%</td>\n",
       "      <td>$416,309,969</td>\n",
       "      <td>65.9%</td>\n",
       "    </tr>\n",
       "    <tr>\n",
       "      <th>3</th>\n",
       "      <td>4</td>\n",
       "      <td>Hancock</td>\n",
       "      <td>$629,443,428</td>\n",
       "      <td>$227,946,274</td>\n",
       "      <td>36.2%</td>\n",
       "      <td>$401,497,154</td>\n",
       "      <td>63.8%</td>\n",
       "    </tr>\n",
       "    <tr>\n",
       "      <th>4</th>\n",
       "      <td>5</td>\n",
       "      <td>Mamma Mia!</td>\n",
       "      <td>$609,841,637</td>\n",
       "      <td>$144,130,063</td>\n",
       "      <td>23.6%</td>\n",
       "      <td>$465,711,574</td>\n",
       "      <td>76.4%</td>\n",
       "    </tr>\n",
       "  </tbody>\n",
       "</table>\n",
       "</div>"
      ],
      "text/plain": [
       "  Rank                                      Release Group       Worldwide  \\\n",
       "0    1                                    The Dark Knight  $1,003,045,358   \n",
       "1    2  Indiana Jones and the Kingdom of the Crystal S...    $790,653,942   \n",
       "2    3                                      Kung Fu Panda    $631,744,560   \n",
       "3    4                                            Hancock    $629,443,428   \n",
       "4    5                                         Mamma Mia!    $609,841,637   \n",
       "\n",
       "       Domestic      %       Foreign      %  \n",
       "0  $533,345,358  53.2%  $469,700,000  46.8%  \n",
       "1  $317,101,119  40.1%  $473,552,823  59.9%  \n",
       "2  $215,434,591  34.1%  $416,309,969  65.9%  \n",
       "3  $227,946,274  36.2%  $401,497,154  63.8%  \n",
       "4  $144,130,063  23.6%  $465,711,574  76.4%  "
      ]
     },
     "execution_count": 7,
     "metadata": {},
     "output_type": "execute_result"
    }
   ],
   "source": [
    "scraper = ScrapeBoxOffice(year=arg_year, save=True, save_raw=True, output_dir='data')\n",
    "df = scraper.run()\n",
    "df.head()"
   ]
  },
  {
   "cell_type": "code",
   "execution_count": null,
   "id": "ba235e29",
   "metadata": {
    "papermill": {
     "duration": 0.006043,
     "end_time": "2021-04-12T21:48:27.705196",
     "exception": false,
     "start_time": "2021-04-12T21:48:27.699153",
     "status": "completed"
    },
    "tags": []
   },
   "outputs": [],
   "source": []
  }
 ],
 "metadata": {
  "celltoolbar": "Tags",
  "kernelspec": {
   "display_name": "Python 3",
   "language": "python",
   "name": "python3"
  },
  "language_info": {
   "codemirror_mode": {
    "name": "ipython",
    "version": 3
   },
   "file_extension": ".py",
   "mimetype": "text/x-python",
   "name": "python",
   "nbconvert_exporter": "python",
   "pygments_lexer": "ipython3",
   "version": "3.9.2"
  },
  "papermill": {
   "default_parameters": {},
   "duration": 20.65672,
   "end_time": "2021-04-12T21:48:28.027382",
   "environment_variables": {},
   "exception": null,
   "input_path": "src/nbs/scrape.ipynb",
   "output_path": "src/nbs/output/scrape.ipynb",
   "parameters": {
    "YEAR": 2008
   },
   "start_time": "2021-04-12T21:48:07.370662",
   "version": "2.3.3"
  }
 },
 "nbformat": 4,
 "nbformat_minor": 5
}