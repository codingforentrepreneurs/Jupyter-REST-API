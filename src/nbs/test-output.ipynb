{
 "cells": [
  {
   "cell_type": "code",
   "execution_count": 1,
   "metadata": {
    "execution": {
     "iopub.execute_input": "2021-04-12T21:43:32.647326Z",
     "iopub.status.busy": "2021-04-12T21:43:32.646659Z",
     "iopub.status.idle": "2021-04-12T21:43:32.648445Z",
     "shell.execute_reply": "2021-04-12T21:43:32.648869Z"
    },
    "papermill": {
     "duration": 0.015064,
     "end_time": "2021-04-12T21:43:32.649118",
     "exception": false,
     "start_time": "2021-04-12T21:43:32.634054",
     "status": "completed"
    },
    "tags": [
     "parameters"
    ]
   },
   "outputs": [],
   "source": [
    "BASE=\".\""
   ]
  },
  {
   "cell_type": "code",
   "execution_count": 2,
   "metadata": {
    "execution": {
     "iopub.execute_input": "2021-04-12T21:43:32.660882Z",
     "iopub.status.busy": "2021-04-12T21:43:32.660117Z",
     "iopub.status.idle": "2021-04-12T21:43:32.661749Z",
     "shell.execute_reply": "2021-04-12T21:43:32.662162Z"
    },
    "papermill": {
     "duration": 0.00907,
     "end_time": "2021-04-12T21:43:32.662341",
     "exception": false,
     "start_time": "2021-04-12T21:43:32.653271",
     "status": "completed"
    },
    "tags": [
     "injected-parameters"
    ]
   },
   "outputs": [],
   "source": [
    "# Parameters\n",
    "BASE = \"abc/abc/123\"\n"
   ]
  },
  {
   "cell_type": "code",
   "execution_count": 3,
   "metadata": {
    "execution": {
     "iopub.execute_input": "2021-04-12T21:43:32.672830Z",
     "iopub.status.busy": "2021-04-12T21:43:32.672154Z",
     "iopub.status.idle": "2021-04-12T21:43:32.674708Z",
     "shell.execute_reply": "2021-04-12T21:43:32.675124Z"
    },
    "papermill": {
     "duration": 0.009472,
     "end_time": "2021-04-12T21:43:32.675320",
     "exception": false,
     "start_time": "2021-04-12T21:43:32.665848",
     "status": "completed"
    },
    "tags": []
   },
   "outputs": [
    {
     "name": "stdout",
     "output_type": "stream",
     "text": [
      "False\n"
     ]
    }
   ],
   "source": [
    "import pathlib\n",
    "BASE_DIR = pathlib.Path(BASE)\n",
    "print(BASE_DIR.exists())"
   ]
  },
  {
   "cell_type": "code",
   "execution_count": 4,
   "metadata": {
    "execution": {
     "iopub.execute_input": "2021-04-12T21:43:32.701747Z",
     "iopub.status.busy": "2021-04-12T21:43:32.701135Z",
     "iopub.status.idle": "2021-04-12T21:43:32.703227Z",
     "shell.execute_reply": "2021-04-12T21:43:32.703638Z"
    },
    "papermill": {
     "duration": 0.009991,
     "end_time": "2021-04-12T21:43:32.703812",
     "exception": false,
     "start_time": "2021-04-12T21:43:32.693821",
     "status": "completed"
    },
    "tags": []
   },
   "outputs": [
    {
     "name": "stdout",
     "output_type": "stream",
     "text": [
      "BASE\t abc/abc/123\n",
      "hello world\n"
     ]
    }
   ],
   "source": [
    "print('BASE\\t', BASE)\n",
    "print(\"hello world\")"
   ]
  },
  {
   "cell_type": "code",
   "execution_count": null,
   "metadata": {
    "papermill": {
     "duration": 0.004262,
     "end_time": "2021-04-12T21:43:32.712353",
     "exception": false,
     "start_time": "2021-04-12T21:43:32.708091",
     "status": "completed"
    },
    "tags": []
   },
   "outputs": [],
   "source": []
  }
 ],
 "metadata": {
  "celltoolbar": "Tags",
  "kernelspec": {
   "display_name": "Python 3",
   "language": "python",
   "name": "python3"
  },
  "language_info": {
   "codemirror_mode": {
    "name": "ipython",
    "version": 3
   },
   "file_extension": ".py",
   "mimetype": "text/x-python",
   "name": "python",
   "nbconvert_exporter": "python",
   "pygments_lexer": "ipython3",
   "version": "3.8.2"
  },
  "papermill": {
   "default_parameters": {},
   "duration": 1.421199,
   "end_time": "2021-04-12T21:43:32.931396",
   "environment_variables": {},
   "exception": null,
   "input_path": "src/nbs/test.ipynb",
   "output_path": "src/nbs/test-output.ipynb",
   "parameters": {
    "BASE": "abc/abc/123"
   },
   "start_time": "2021-04-12T21:43:31.510197",
   "version": "2.3.3"
  }
 },
 "nbformat": 4,
 "nbformat_minor": 5
}
