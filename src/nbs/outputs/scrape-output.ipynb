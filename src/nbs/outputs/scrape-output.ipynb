{
 "cells": [
  {
   "cell_type": "code",
   "execution_count": 1,
   "id": "0a0d5dd5",
   "metadata": {
    "execution": {
     "iopub.execute_input": "2021-04-12T23:38:41.235621Z",
     "iopub.status.busy": "2021-04-12T23:38:41.234989Z",
     "iopub.status.idle": "2021-04-12T23:38:41.237020Z",
     "shell.execute_reply": "2021-04-12T23:38:41.237453Z"
    },
    "papermill": {
     "duration": 0.016802,
     "end_time": "2021-04-12T23:38:41.237749",
     "exception": false,
     "start_time": "2021-04-12T23:38:41.220947",
     "status": "completed"
    },
    "tags": [
     "parameters"
    ]
   },
   "outputs": [],
   "source": [
    "YEAR = None"
   ]
  },
  {
   "cell_type": "code",
   "execution_count": 2,
   "id": "0b3d59c4",
   "metadata": {
    "execution": {
     "iopub.execute_input": "2021-04-12T23:38:41.253345Z",
     "iopub.status.busy": "2021-04-12T23:38:41.252226Z",
     "iopub.status.idle": "2021-04-12T23:38:41.254568Z",
     "shell.execute_reply": "2021-04-12T23:38:41.254993Z"
    },
    "papermill": {
     "duration": 0.01192,
     "end_time": "2021-04-12T23:38:41.255175",
     "exception": false,
     "start_time": "2021-04-12T23:38:41.243255",
     "status": "completed"
    },
    "tags": [
     "injected-parameters"
    ]
   },
   "outputs": [],
   "source": [
    "# Parameters\n",
    "id = None\n",
    "YEAR = 2018\n"
   ]
  },
  {
   "cell_type": "code",
   "execution_count": 3,
   "id": "aad338e2",
   "metadata": {
    "execution": {
     "iopub.execute_input": "2021-04-12T23:38:41.269285Z",
     "iopub.status.busy": "2021-04-12T23:38:41.268523Z",
     "iopub.status.idle": "2021-04-12T23:38:41.270795Z",
     "shell.execute_reply": "2021-04-12T23:38:41.271421Z"
    },
    "papermill": {
     "duration": 0.011404,
     "end_time": "2021-04-12T23:38:41.271662",
     "exception": false,
     "start_time": "2021-04-12T23:38:41.260258",
     "status": "completed"
    },
    "tags": []
   },
   "outputs": [],
   "source": [
    "arg_year = YEAR if isinstance(YEAR, int) else 1999"
   ]
  },
  {
   "cell_type": "code",
   "execution_count": 4,
   "id": "6d98839d",
   "metadata": {
    "execution": {
     "iopub.execute_input": "2021-04-12T23:38:41.285613Z",
     "iopub.status.busy": "2021-04-12T23:38:41.284948Z",
     "iopub.status.idle": "2021-04-12T23:38:41.286540Z",
     "shell.execute_reply": "2021-04-12T23:38:41.286927Z"
    },
    "papermill": {
     "duration": 0.009917,
     "end_time": "2021-04-12T23:38:41.287111",
     "exception": false,
     "start_time": "2021-04-12T23:38:41.277194",
     "status": "completed"
    },
    "tags": []
   },
   "outputs": [],
   "source": [
    "# !pip install requests requests-html pandas"
   ]
  },
  {
   "cell_type": "code",
   "execution_count": 5,
   "id": "4f82a602",
   "metadata": {
    "execution": {
     "iopub.execute_input": "2021-04-12T23:38:41.301391Z",
     "iopub.status.busy": "2021-04-12T23:38:41.300777Z",
     "iopub.status.idle": "2021-04-12T23:38:41.772405Z",
     "shell.execute_reply": "2021-04-12T23:38:41.772902Z"
    },
    "papermill": {
     "duration": 0.480386,
     "end_time": "2021-04-12T23:38:41.773091",
     "exception": false,
     "start_time": "2021-04-12T23:38:41.292705",
     "status": "completed"
    },
    "tags": []
   },
   "outputs": [],
   "source": [
    "from dataclasses import dataclass\n",
    "import pathlib\n",
    "import pandas as pd\n",
    "import requests\n",
    "from requests_html import HTML"
   ]
  },
  {
   "cell_type": "code",
   "execution_count": 6,
   "id": "1c280086",
   "metadata": {
    "execution": {
     "iopub.execute_input": "2021-04-12T23:38:41.799470Z",
     "iopub.status.busy": "2021-04-12T23:38:41.798778Z",
     "iopub.status.idle": "2021-04-12T23:38:41.800856Z",
     "shell.execute_reply": "2021-04-12T23:38:41.801295Z"
    },
    "papermill": {
     "duration": 0.022644,
     "end_time": "2021-04-12T23:38:41.801480",
     "exception": false,
     "start_time": "2021-04-12T23:38:41.778836",
     "status": "completed"
    },
    "tags": []
   },
   "outputs": [],
   "source": [
    "@dataclass\n",
    "class ScrapeBoxOffice:\n",
    "    base_endpoint:str = \"https://www.boxofficemojo.com/year/world/\"\n",
    "    year:int = None\n",
    "    save_raw:bool = False\n",
    "    save:bool = False\n",
    "    output_dir: str = \".\"\n",
    "    table_selector: str = '.imdb-scroll-table'\n",
    "    table_data = []\n",
    "    table_header_names = []\n",
    "    df = pd.DataFrame()\n",
    "    \n",
    "    @property\n",
    "    def name(self):\n",
    "        return self.year if isinstance(self.year, int) else 'world'\n",
    "    \n",
    "    def get_endpoint(self):\n",
    "        endpoint = self.base_endpoint\n",
    "        if isinstance(self.year, int):\n",
    "            endpoint = f\"{endpoint}{self.year}/\"\n",
    "        return endpoint\n",
    "    \n",
    "    def get_output_dir(self):\n",
    "        return pathlib.Path(self.output_dir)\n",
    "    \n",
    "    def extract_html_str(self, endpoint=None):\n",
    "        url = endpoint if endpoint is not None else self.get_endpoint()\n",
    "        r = requests.get(url, stream=True)\n",
    "        html_text = None\n",
    "        status = r.status_code\n",
    "        if r.status_code == 200:\n",
    "            html_text = r.text\n",
    "            if self.save_raw:\n",
    "                output_fname = f\"{self.name}.html\"\n",
    "                raw_output_dir = self.get_output_dir() / 'html'\n",
    "                raw_output_dir.mkdir(exist_ok=True, parents=True)\n",
    "                output_fname = raw_output_dir / output_fname\n",
    "                with open(f\"{output_fname}\", 'w') as f:\n",
    "                    f.write(html_text)\n",
    "            return html_text, status\n",
    "        return html_text, status\n",
    "    \n",
    "    def parse_html(self, html_str=''):\n",
    "        r_html = HTML(html=html_str)\n",
    "        r_table = r_html.find(self.table_selector)\n",
    "        if len(r_table) == 0:\n",
    "            return None\n",
    "        table_data = []\n",
    "        header_names = []\n",
    "        parsed_table = r_table[0]\n",
    "        rows = parsed_table.find(\"tr\")\n",
    "        header_row = rows[0]\n",
    "        header_cols = header_row.find('th')\n",
    "        header_names = [x.text for x in header_cols]\n",
    "        for row in rows[1:]:\n",
    "            cols = row.find(\"td\")\n",
    "            row_data = []\n",
    "            row_dict_data = {}\n",
    "            for i, col in enumerate(cols):\n",
    "                header_name = header_names[i]\n",
    "                row_data.append(col.text)\n",
    "            table_data.append(row_data)\n",
    "        self.table_data = table_data\n",
    "        self.table_header_names = header_names\n",
    "        return self.table_data, self.table_header_names\n",
    "    \n",
    "    def to_df(self, data=[], columns=[]):\n",
    "        return pd.DataFrame(data, columns=columns)\n",
    "    \n",
    "    def run(self, save=False):\n",
    "        save = self.save if save is False else save\n",
    "        endpoint = self.get_endpoint()\n",
    "        html_str, status = self.extract_html_str(endpoint=endpoint)\n",
    "        if status not in range(200, 299):\n",
    "            raise Exception(f\"Extraction failed, endpoint status {status} at {endpoint}\")\n",
    "        data, headers = self.parse_html(html_str if html_str is not None else '')\n",
    "        df = self.to_df(data=data, columns=headers)\n",
    "        self.df = df\n",
    "        if save:\n",
    "            filepath = self.get_output_dir() / f'{self.name}.csv'\n",
    "            df.to_csv(filepath, index=False)\n",
    "        return self.df"
   ]
  },
  {
   "cell_type": "code",
   "execution_count": 7,
   "id": "058f8195",
   "metadata": {
    "execution": {
     "iopub.execute_input": "2021-04-12T23:38:41.816652Z",
     "iopub.status.busy": "2021-04-12T23:38:41.816028Z",
     "iopub.status.idle": "2021-04-12T23:39:02.799205Z",
     "shell.execute_reply": "2021-04-12T23:39:02.799628Z"
    },
    "papermill": {
     "duration": 20.992951,
     "end_time": "2021-04-12T23:39:02.799808",
     "exception": false,
     "start_time": "2021-04-12T23:38:41.806857",
     "status": "completed"
    },
    "tags": []
   },
   "outputs": [
    {
     "data": {
      "text/html": [
       "<div>\n",
       "<style scoped>\n",
       "    .dataframe tbody tr th:only-of-type {\n",
       "        vertical-align: middle;\n",
       "    }\n",
       "\n",
       "    .dataframe tbody tr th {\n",
       "        vertical-align: top;\n",
       "    }\n",
       "\n",
       "    .dataframe thead th {\n",
       "        text-align: right;\n",
       "    }\n",
       "</style>\n",
       "<table border=\"1\" class=\"dataframe\">\n",
       "  <thead>\n",
       "    <tr style=\"text-align: right;\">\n",
       "      <th></th>\n",
       "      <th>Rank</th>\n",
       "      <th>Release Group</th>\n",
       "      <th>Worldwide</th>\n",
       "      <th>Domestic</th>\n",
       "      <th>%</th>\n",
       "      <th>Foreign</th>\n",
       "      <th>%</th>\n",
       "    </tr>\n",
       "  </thead>\n",
       "  <tbody>\n",
       "    <tr>\n",
       "      <th>0</th>\n",
       "      <td>1</td>\n",
       "      <td>Avengers: Infinity War</td>\n",
       "      <td>$2,048,359,754</td>\n",
       "      <td>$678,815,482</td>\n",
       "      <td>33.1%</td>\n",
       "      <td>$1,369,544,272</td>\n",
       "      <td>66.9%</td>\n",
       "    </tr>\n",
       "    <tr>\n",
       "      <th>1</th>\n",
       "      <td>2</td>\n",
       "      <td>Black Panther</td>\n",
       "      <td>$1,346,913,161</td>\n",
       "      <td>$700,059,566</td>\n",
       "      <td>52%</td>\n",
       "      <td>$646,853,595</td>\n",
       "      <td>48%</td>\n",
       "    </tr>\n",
       "    <tr>\n",
       "      <th>2</th>\n",
       "      <td>3</td>\n",
       "      <td>Jurassic World: Fallen Kingdom</td>\n",
       "      <td>$1,308,467,944</td>\n",
       "      <td>$417,719,760</td>\n",
       "      <td>31.9%</td>\n",
       "      <td>$890,748,184</td>\n",
       "      <td>68.1%</td>\n",
       "    </tr>\n",
       "    <tr>\n",
       "      <th>3</th>\n",
       "      <td>4</td>\n",
       "      <td>Incredibles 2</td>\n",
       "      <td>$1,242,805,359</td>\n",
       "      <td>$608,581,744</td>\n",
       "      <td>49%</td>\n",
       "      <td>$634,223,615</td>\n",
       "      <td>51%</td>\n",
       "    </tr>\n",
       "    <tr>\n",
       "      <th>4</th>\n",
       "      <td>5</td>\n",
       "      <td>Aquaman</td>\n",
       "      <td>$1,148,461,807</td>\n",
       "      <td>$335,061,807</td>\n",
       "      <td>29.2%</td>\n",
       "      <td>$813,400,000</td>\n",
       "      <td>70.8%</td>\n",
       "    </tr>\n",
       "  </tbody>\n",
       "</table>\n",
       "</div>"
      ],
      "text/plain": [
       "  Rank                   Release Group       Worldwide      Domestic      %  \\\n",
       "0    1          Avengers: Infinity War  $2,048,359,754  $678,815,482  33.1%   \n",
       "1    2                   Black Panther  $1,346,913,161  $700,059,566    52%   \n",
       "2    3  Jurassic World: Fallen Kingdom  $1,308,467,944  $417,719,760  31.9%   \n",
       "3    4                   Incredibles 2  $1,242,805,359  $608,581,744    49%   \n",
       "4    5                         Aquaman  $1,148,461,807  $335,061,807  29.2%   \n",
       "\n",
       "          Foreign      %  \n",
       "0  $1,369,544,272  66.9%  \n",
       "1    $646,853,595    48%  \n",
       "2    $890,748,184  68.1%  \n",
       "3    $634,223,615    51%  \n",
       "4    $813,400,000  70.8%  "
      ]
     },
     "execution_count": 7,
     "metadata": {},
     "output_type": "execute_result"
    }
   ],
   "source": [
    "scraper = ScrapeBoxOffice(year=arg_year, save=True, save_raw=True, output_dir='data')\n",
    "df = scraper.run()\n",
    "df.head()"
   ]
  },
  {
   "cell_type": "code",
   "execution_count": null,
   "id": "59f9c9d2",
   "metadata": {
    "papermill": {
     "duration": 0.005801,
     "end_time": "2021-04-12T23:39:02.811788",
     "exception": false,
     "start_time": "2021-04-12T23:39:02.805987",
     "status": "completed"
    },
    "tags": []
   },
   "outputs": [],
   "source": []
  }
 ],
 "metadata": {
  "celltoolbar": "Tags",
  "kernelspec": {
   "display_name": "Python 3",
   "language": "python",
   "name": "python3"
  },
  "language_info": {
   "codemirror_mode": {
    "name": "ipython",
    "version": 3
   },
   "file_extension": ".py",
   "mimetype": "text/x-python",
   "name": "python",
   "nbconvert_exporter": "python",
   "pygments_lexer": "ipython3",
   "version": "3.9.2"
  },
  "papermill": {
   "default_parameters": {},
   "duration": 23.032331,
   "end_time": "2021-04-12T23:39:03.134041",
   "environment_variables": {},
   "exception": null,
   "input_path": "src/nbs/scrape.ipynb",
   "output_path": "src/nbs/outputs/scrape-output.ipynb",
   "parameters": {
    "YEAR": 2018,
    "id": null
   },
   "start_time": "2021-04-12T23:38:40.101710",
   "version": "2.3.3"
  }
 },
 "nbformat": 4,
 "nbformat_minor": 5
}