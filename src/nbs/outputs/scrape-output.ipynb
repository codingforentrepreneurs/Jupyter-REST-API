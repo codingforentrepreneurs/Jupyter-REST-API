{
 "cells": [
  {
   "cell_type": "markdown",
   "id": "89b23798",
   "metadata": {
    "tags": [
     "papermill-error-cell-tag"
    ]
   },
   "source": [
    "<span style=\"color:red; font-family:Helvetica Neue, Helvetica, Arial, sans-serif; font-size:2em;\">An Exception was encountered at '<a href=\"#papermill-error-cell\">In [8]</a>'.</span>"
   ]
  },
  {
   "cell_type": "code",
   "execution_count": 1,
   "id": "723dc9c6",
   "metadata": {
    "execution": {
     "iopub.execute_input": "2021-04-13T05:33:32.640199Z",
     "iopub.status.busy": "2021-04-13T05:33:32.639480Z",
     "iopub.status.idle": "2021-04-13T05:33:32.641504Z",
     "shell.execute_reply": "2021-04-13T05:33:32.641928Z"
    },
    "papermill": {
     "duration": 0.018097,
     "end_time": "2021-04-13T05:33:32.642205",
     "exception": false,
     "start_time": "2021-04-13T05:33:32.624108",
     "status": "completed"
    },
    "tags": [
     "parameters"
    ]
   },
   "outputs": [],
   "source": [
    "YEAR = \"2020\"\n",
    "BASE_DIR = \".\""
   ]
  },
  {
   "cell_type": "code",
   "execution_count": 2,
   "id": "40721f0e",
   "metadata": {
    "execution": {
     "iopub.execute_input": "2021-04-13T05:33:32.657454Z",
     "iopub.status.busy": "2021-04-13T05:33:32.656822Z",
     "iopub.status.idle": "2021-04-13T05:33:32.659362Z",
     "shell.execute_reply": "2021-04-13T05:33:32.659895Z"
    },
    "papermill": {
     "duration": 0.012038,
     "end_time": "2021-04-13T05:33:32.660118",
     "exception": false,
     "start_time": "2021-04-13T05:33:32.648080",
     "status": "completed"
    },
    "tags": [
     "injected-parameters"
    ]
   },
   "outputs": [],
   "source": [
    "# Parameters\n",
    "id = None\n",
    "YEAR = \"2302\"\n",
    "BASE_DIR = \"/Users/cfe/Dev/jupyter-api/src\"\n",
    "DATA_DIR = \"/Users/cfe/Dev/jupyter-api/src/data\"\n"
   ]
  },
  {
   "cell_type": "code",
   "execution_count": 3,
   "id": "65842a50",
   "metadata": {
    "execution": {
     "iopub.execute_input": "2021-04-13T05:33:32.681890Z",
     "iopub.status.busy": "2021-04-13T05:33:32.681153Z",
     "iopub.status.idle": "2021-04-13T05:33:32.683487Z",
     "shell.execute_reply": "2021-04-13T05:33:32.683954Z"
    },
    "papermill": {
     "duration": 0.018366,
     "end_time": "2021-04-13T05:33:32.684134",
     "exception": false,
     "start_time": "2021-04-13T05:33:32.665768",
     "status": "completed"
    },
    "tags": []
   },
   "outputs": [
    {
     "data": {
      "text/plain": [
       "2302"
      ]
     },
     "execution_count": 3,
     "metadata": {},
     "output_type": "execute_result"
    }
   ],
   "source": [
    "arg_year = 1999\n",
    "if isinstance(YEAR, int):\n",
    "    arg_year = YEAR\n",
    "elif isinstance(YEAR, str):\n",
    "    try:\n",
    "        arg_year = int(YEAR)\n",
    "    except:\n",
    "        pass\n",
    "arg_year"
   ]
  },
  {
   "cell_type": "code",
   "execution_count": 4,
   "id": "6dc70a5e",
   "metadata": {
    "execution": {
     "iopub.execute_input": "2021-04-13T05:33:32.699473Z",
     "iopub.status.busy": "2021-04-13T05:33:32.698757Z",
     "iopub.status.idle": "2021-04-13T05:33:32.700677Z",
     "shell.execute_reply": "2021-04-13T05:33:32.701096Z"
    },
    "papermill": {
     "duration": 0.011458,
     "end_time": "2021-04-13T05:33:32.701280",
     "exception": false,
     "start_time": "2021-04-13T05:33:32.689822",
     "status": "completed"
    },
    "tags": []
   },
   "outputs": [],
   "source": [
    "import sys\n",
    "import pathlib\n",
    "\n",
    "BASE_DIR = pathlib.Path(BASE_DIR)"
   ]
  },
  {
   "cell_type": "code",
   "execution_count": 5,
   "id": "056504d9",
   "metadata": {
    "execution": {
     "iopub.execute_input": "2021-04-13T05:33:32.716256Z",
     "iopub.status.busy": "2021-04-13T05:33:32.715520Z",
     "iopub.status.idle": "2021-04-13T05:33:32.717463Z",
     "shell.execute_reply": "2021-04-13T05:33:32.717886Z"
    },
    "papermill": {
     "duration": 0.010967,
     "end_time": "2021-04-13T05:33:32.718110",
     "exception": false,
     "start_time": "2021-04-13T05:33:32.707143",
     "status": "completed"
    },
    "tags": []
   },
   "outputs": [],
   "source": [
    "# !pip install requests requests-html pandas"
   ]
  },
  {
   "cell_type": "code",
   "execution_count": 6,
   "id": "f2577502",
   "metadata": {
    "execution": {
     "iopub.execute_input": "2021-04-13T05:33:32.733444Z",
     "iopub.status.busy": "2021-04-13T05:33:32.732857Z",
     "iopub.status.idle": "2021-04-13T05:33:33.201833Z",
     "shell.execute_reply": "2021-04-13T05:33:33.202268Z"
    },
    "papermill": {
     "duration": 0.478241,
     "end_time": "2021-04-13T05:33:33.202448",
     "exception": false,
     "start_time": "2021-04-13T05:33:32.724207",
     "status": "completed"
    },
    "tags": []
   },
   "outputs": [],
   "source": [
    "from dataclasses import dataclass\n",
    "import pathlib\n",
    "import pandas as pd\n",
    "import requests\n",
    "from requests_html import HTML"
   ]
  },
  {
   "cell_type": "code",
   "execution_count": 7,
   "id": "1d5adeb2",
   "metadata": {
    "execution": {
     "iopub.execute_input": "2021-04-13T05:33:33.230200Z",
     "iopub.status.busy": "2021-04-13T05:33:33.229374Z",
     "iopub.status.idle": "2021-04-13T05:33:33.231271Z",
     "shell.execute_reply": "2021-04-13T05:33:33.231677Z"
    },
    "papermill": {
     "duration": 0.022875,
     "end_time": "2021-04-13T05:33:33.231854",
     "exception": false,
     "start_time": "2021-04-13T05:33:33.208979",
     "status": "completed"
    },
    "tags": []
   },
   "outputs": [],
   "source": [
    "@dataclass\n",
    "class ScrapeBoxOffice:\n",
    "    base_endpoint:str = \"https://www.boxofficemojo.com/year/world/\"\n",
    "    year:int = None\n",
    "    save_raw:bool = False\n",
    "    save:bool = False\n",
    "    output_dir: str = \".\"\n",
    "    table_selector: str = '.imdb-scroll-table'\n",
    "    table_data = []\n",
    "    table_header_names = []\n",
    "    df = pd.DataFrame()\n",
    "    \n",
    "    @property\n",
    "    def name(self):\n",
    "        return self.year if isinstance(self.year, int) else 'world'\n",
    "    \n",
    "    def get_endpoint(self):\n",
    "        endpoint = self.base_endpoint\n",
    "        if isinstance(self.year, int):\n",
    "            endpoint = f\"{endpoint}{self.year}/\"\n",
    "        return endpoint\n",
    "    \n",
    "    def get_output_dir(self):\n",
    "        return pathlib.Path(self.output_dir)\n",
    "    \n",
    "    def extract_html_str(self, endpoint=None):\n",
    "        url = endpoint if endpoint is not None else self.get_endpoint()\n",
    "        r = requests.get(url, stream=True)\n",
    "        html_text = None\n",
    "        status = r.status_code\n",
    "        if r.status_code == 200:\n",
    "            html_text = r.text\n",
    "            if self.save_raw:\n",
    "                output_fname = f\"{self.name}.html\"\n",
    "                raw_output_dir = self.get_output_dir() / 'html'\n",
    "                raw_output_dir.mkdir(exist_ok=True, parents=True)\n",
    "                output_fname = raw_output_dir / output_fname\n",
    "                with open(f\"{output_fname}\", 'w') as f:\n",
    "                    f.write(html_text)\n",
    "            return html_text, status\n",
    "        return html_text, status\n",
    "    \n",
    "    def parse_html(self, html_str=''):\n",
    "        r_html = HTML(html=html_str)\n",
    "        r_table = r_html.find(self.table_selector)\n",
    "        if len(r_table) == 0:\n",
    "            return None\n",
    "        table_data = []\n",
    "        header_names = []\n",
    "        parsed_table = r_table[0]\n",
    "        rows = parsed_table.find(\"tr\")\n",
    "        header_row = rows[0]\n",
    "        header_cols = header_row.find('th')\n",
    "        header_names = [x.text for x in header_cols]\n",
    "        for row in rows[1:]:\n",
    "            cols = row.find(\"td\")\n",
    "            row_data = []\n",
    "            row_dict_data = {}\n",
    "            for i, col in enumerate(cols):\n",
    "                header_name = header_names[i]\n",
    "                row_data.append(col.text)\n",
    "            table_data.append(row_data)\n",
    "        self.table_data = table_data\n",
    "        self.table_header_names = header_names\n",
    "        return self.table_data, self.table_header_names\n",
    "    \n",
    "    def to_df(self, data=[], columns=[]):\n",
    "        return pd.DataFrame(data, columns=columns)\n",
    "    \n",
    "    def run(self, save=False):\n",
    "        save = self.save if save is False else save\n",
    "        endpoint = self.get_endpoint()\n",
    "        sys.stdout.write(f\"Endpoint:\\t{endpoint}\\n\")\n",
    "        html_str, status = self.extract_html_str(endpoint=endpoint)\n",
    "        sys.stdout.write(f\"Response Status:\\t{status}\\n\")\n",
    "        if status not in range(200, 299):\n",
    "            raise Exception(f\"Extraction failed, endpoint status {status} at {endpoint}\")\n",
    "        data, headers = self.parse_html(html_str if html_str is not None else '')\n",
    "        sys.stdout.write(f\"Rows:\\t{len(data)}\\nColumns:\\t{len(headers)}\\n\")\n",
    "        df = self.to_df(data=data, columns=headers)\n",
    "        self.df = df\n",
    "        if save:\n",
    "            filepath = self.get_output_dir() / f'{self.name}.csv'\n",
    "            sys.stdout.write(f\"Saved to {filepath}\")\n",
    "            df.to_csv(filepath, index=False)\n",
    "        sys.stdout.write(f\"\\n\\n\")\n",
    "        return self.df"
   ]
  },
  {
   "cell_type": "markdown",
   "id": "fe0dfc60",
   "metadata": {
    "tags": [
     "papermill-error-cell-tag"
    ]
   },
   "source": [
    "<span id=\"papermill-error-cell\" style=\"color:red; font-family:Helvetica Neue, Helvetica, Arial, sans-serif; font-size:2em;\">Execution using papermill encountered an exception here and stopped:</span>"
   ]
  },
  {
   "cell_type": "code",
   "execution_count": 8,
   "id": "f34733bb",
   "metadata": {
    "execution": {
     "iopub.execute_input": "2021-04-13T05:33:33.249165Z",
     "iopub.status.busy": "2021-04-13T05:33:33.248422Z",
     "iopub.status.idle": "2021-04-13T05:33:33.807275Z",
     "shell.execute_reply": "2021-04-13T05:33:33.806507Z"
    },
    "papermill": {
     "duration": 0.569692,
     "end_time": "2021-04-13T05:33:33.807549",
     "exception": true,
     "start_time": "2021-04-13T05:33:33.237857",
     "status": "failed"
    },
    "tags": []
   },
   "outputs": [
    {
     "name": "stdout",
     "output_type": "stream",
     "text": [
      "Endpoint:\thttps://www.boxofficemojo.com/year/world/2302/\n"
     ]
    },
    {
     "name": "stdout",
     "output_type": "stream",
     "text": [
      "Response Status:\t404\n"
     ]
    },
    {
     "ename": "Exception",
     "evalue": "Extraction failed, endpoint status 404 at https://www.boxofficemojo.com/year/world/2302/",
     "output_type": "error",
     "traceback": [
      "\u001b[0;31m---------------------------------------------------------------------------\u001b[0m",
      "\u001b[0;31mException\u001b[0m                                 Traceback (most recent call last)",
      "\u001b[0;32m<ipython-input-8-7727b3b6f5e6>\u001b[0m in \u001b[0;36m<module>\u001b[0;34m\u001b[0m\n\u001b[1;32m      1\u001b[0m \u001b[0mscraper\u001b[0m \u001b[0;34m=\u001b[0m \u001b[0mScrapeBoxOffice\u001b[0m\u001b[0;34m(\u001b[0m\u001b[0myear\u001b[0m\u001b[0;34m=\u001b[0m\u001b[0marg_year\u001b[0m\u001b[0;34m,\u001b[0m \u001b[0msave\u001b[0m\u001b[0;34m=\u001b[0m\u001b[0;32mTrue\u001b[0m\u001b[0;34m,\u001b[0m \u001b[0msave_raw\u001b[0m\u001b[0;34m=\u001b[0m\u001b[0;32mTrue\u001b[0m\u001b[0;34m,\u001b[0m \u001b[0moutput_dir\u001b[0m\u001b[0;34m=\u001b[0m\u001b[0mstr\u001b[0m\u001b[0;34m(\u001b[0m\u001b[0mBASE_DIR\u001b[0m \u001b[0;34m/\u001b[0m \u001b[0;34m'data'\u001b[0m\u001b[0;34m)\u001b[0m\u001b[0;34m)\u001b[0m\u001b[0;34m\u001b[0m\u001b[0;34m\u001b[0m\u001b[0m\n\u001b[0;32m----> 2\u001b[0;31m \u001b[0mdf\u001b[0m \u001b[0;34m=\u001b[0m \u001b[0mscraper\u001b[0m\u001b[0;34m.\u001b[0m\u001b[0mrun\u001b[0m\u001b[0;34m(\u001b[0m\u001b[0;34m)\u001b[0m\u001b[0;34m\u001b[0m\u001b[0;34m\u001b[0m\u001b[0m\n\u001b[0m\u001b[1;32m      3\u001b[0m \u001b[0mdf\u001b[0m\u001b[0;34m.\u001b[0m\u001b[0mhead\u001b[0m\u001b[0;34m(\u001b[0m\u001b[0;34m)\u001b[0m\u001b[0;34m\u001b[0m\u001b[0;34m\u001b[0m\u001b[0m\n",
      "\u001b[0;32m<ipython-input-7-59fc22e5ef9f>\u001b[0m in \u001b[0;36mrun\u001b[0;34m(self, save)\u001b[0m\n\u001b[1;32m     75\u001b[0m         \u001b[0msys\u001b[0m\u001b[0;34m.\u001b[0m\u001b[0mstdout\u001b[0m\u001b[0;34m.\u001b[0m\u001b[0mwrite\u001b[0m\u001b[0;34m(\u001b[0m\u001b[0;34mf\"Response Status:\\t{status}\\n\"\u001b[0m\u001b[0;34m)\u001b[0m\u001b[0;34m\u001b[0m\u001b[0;34m\u001b[0m\u001b[0m\n\u001b[1;32m     76\u001b[0m         \u001b[0;32mif\u001b[0m \u001b[0mstatus\u001b[0m \u001b[0;32mnot\u001b[0m \u001b[0;32min\u001b[0m \u001b[0mrange\u001b[0m\u001b[0;34m(\u001b[0m\u001b[0;36m200\u001b[0m\u001b[0;34m,\u001b[0m \u001b[0;36m299\u001b[0m\u001b[0;34m)\u001b[0m\u001b[0;34m:\u001b[0m\u001b[0;34m\u001b[0m\u001b[0;34m\u001b[0m\u001b[0m\n\u001b[0;32m---> 77\u001b[0;31m             \u001b[0;32mraise\u001b[0m \u001b[0mException\u001b[0m\u001b[0;34m(\u001b[0m\u001b[0;34mf\"Extraction failed, endpoint status {status} at {endpoint}\"\u001b[0m\u001b[0;34m)\u001b[0m\u001b[0;34m\u001b[0m\u001b[0;34m\u001b[0m\u001b[0m\n\u001b[0m\u001b[1;32m     78\u001b[0m         \u001b[0mdata\u001b[0m\u001b[0;34m,\u001b[0m \u001b[0mheaders\u001b[0m \u001b[0;34m=\u001b[0m \u001b[0mself\u001b[0m\u001b[0;34m.\u001b[0m\u001b[0mparse_html\u001b[0m\u001b[0;34m(\u001b[0m\u001b[0mhtml_str\u001b[0m \u001b[0;32mif\u001b[0m \u001b[0mhtml_str\u001b[0m \u001b[0;32mis\u001b[0m \u001b[0;32mnot\u001b[0m \u001b[0;32mNone\u001b[0m \u001b[0;32melse\u001b[0m \u001b[0;34m''\u001b[0m\u001b[0;34m)\u001b[0m\u001b[0;34m\u001b[0m\u001b[0;34m\u001b[0m\u001b[0m\n\u001b[1;32m     79\u001b[0m         \u001b[0msys\u001b[0m\u001b[0;34m.\u001b[0m\u001b[0mstdout\u001b[0m\u001b[0;34m.\u001b[0m\u001b[0mwrite\u001b[0m\u001b[0;34m(\u001b[0m\u001b[0;34mf\"Rows:\\t{len(data)}\\nColumns:\\t{len(headers)}\\n\"\u001b[0m\u001b[0;34m)\u001b[0m\u001b[0;34m\u001b[0m\u001b[0;34m\u001b[0m\u001b[0m\n",
      "\u001b[0;31mException\u001b[0m: Extraction failed, endpoint status 404 at https://www.boxofficemojo.com/year/world/2302/"
     ]
    }
   ],
   "source": [
    "scraper = ScrapeBoxOffice(year=arg_year, save=True, save_raw=True, output_dir=str(BASE_DIR / 'data'))\n",
    "df = scraper.run()\n",
    "df.head()"
   ]
  },
  {
   "cell_type": "code",
   "execution_count": null,
   "id": "6c02dfbd",
   "metadata": {
    "papermill": {
     "duration": null,
     "end_time": null,
     "exception": null,
     "start_time": null,
     "status": "pending"
    },
    "tags": []
   },
   "outputs": [],
   "source": []
  }
 ],
 "metadata": {
  "celltoolbar": "Tags",
  "kernelspec": {
   "display_name": "Python 3",
   "language": "python",
   "name": "python3"
  },
  "language_info": {
   "codemirror_mode": {
    "name": "ipython",
    "version": 3
   },
   "file_extension": ".py",
   "mimetype": "text/x-python",
   "name": "python",
   "nbconvert_exporter": "python",
   "pygments_lexer": "ipython3",
   "version": "3.9.2"
  },
  "papermill": {
   "default_parameters": {},
   "duration": 2.240035,
   "end_time": "2021-04-13T05:33:34.128195",
   "environment_variables": {},
   "exception": true,
   "input_path": "/Users/cfe/Dev/jupyter-api/src/nbs/scrape.ipynb",
   "output_path": "/Users/cfe/Dev/jupyter-api/src/nbs/outputs/scrape-output.ipynb",
   "parameters": {
    "BASE_DIR": "/Users/cfe/Dev/jupyter-api/src",
    "DATA_DIR": "/Users/cfe/Dev/jupyter-api/src/data",
    "YEAR": "2302",
    "id": null
   },
   "start_time": "2021-04-13T05:33:31.888160",
   "version": "2.3.3"
  }
 },
 "nbformat": 4,
 "nbformat_minor": 5
}