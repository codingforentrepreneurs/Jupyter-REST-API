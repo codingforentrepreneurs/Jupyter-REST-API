{
 "cells": [
  {
   "cell_type": "code",
   "execution_count": 1,
   "id": "b3e69c8f",
   "metadata": {
    "execution": {
     "iopub.execute_input": "2021-04-13T00:17:14.853257Z",
     "iopub.status.busy": "2021-04-13T00:17:14.852637Z",
     "iopub.status.idle": "2021-04-13T00:17:14.854404Z",
     "shell.execute_reply": "2021-04-13T00:17:14.854831Z"
    },
    "papermill": {
     "duration": 0.017424,
     "end_time": "2021-04-13T00:17:14.855073",
     "exception": false,
     "start_time": "2021-04-13T00:17:14.837649",
     "status": "completed"
    },
    "tags": [
     "parameters"
    ]
   },
   "outputs": [],
   "source": [
    "YEAR = \"2020\"\n",
    "BASE_DIR = \".\""
   ]
  },
  {
   "cell_type": "code",
   "execution_count": 2,
   "id": "7fa72d77",
   "metadata": {
    "execution": {
     "iopub.execute_input": "2021-04-13T00:17:14.870180Z",
     "iopub.status.busy": "2021-04-13T00:17:14.869581Z",
     "iopub.status.idle": "2021-04-13T00:17:14.871279Z",
     "shell.execute_reply": "2021-04-13T00:17:14.871894Z"
    },
    "papermill": {
     "duration": 0.010867,
     "end_time": "2021-04-13T00:17:14.872081",
     "exception": false,
     "start_time": "2021-04-13T00:17:14.861214",
     "status": "completed"
    },
    "tags": [
     "injected-parameters"
    ]
   },
   "outputs": [],
   "source": [
    "# Parameters\n",
    "id = None\n",
    "YEAR = \"2005\"\n",
    "BASE_DIR = \"/Users/cfe/Dev/jupyter-api/src\"\n"
   ]
  },
  {
   "cell_type": "code",
   "execution_count": 3,
   "id": "18520d1c",
   "metadata": {
    "execution": {
     "iopub.execute_input": "2021-04-13T00:17:14.892494Z",
     "iopub.status.busy": "2021-04-13T00:17:14.891824Z",
     "iopub.status.idle": "2021-04-13T00:17:14.894358Z",
     "shell.execute_reply": "2021-04-13T00:17:14.894824Z"
    },
    "papermill": {
     "duration": 0.017545,
     "end_time": "2021-04-13T00:17:14.895003",
     "exception": false,
     "start_time": "2021-04-13T00:17:14.877458",
     "status": "completed"
    },
    "tags": []
   },
   "outputs": [
    {
     "data": {
      "text/plain": [
       "2005"
      ]
     },
     "execution_count": 3,
     "metadata": {},
     "output_type": "execute_result"
    }
   ],
   "source": [
    "arg_year = 1999\n",
    "if isinstance(YEAR, int):\n",
    "    arg_year = YEAR\n",
    "elif isinstance(YEAR, str):\n",
    "    try:\n",
    "        arg_year = int(YEAR)\n",
    "    except:\n",
    "        pass\n",
    "arg_year"
   ]
  },
  {
   "cell_type": "code",
   "execution_count": 4,
   "id": "7b3e4e5a",
   "metadata": {
    "execution": {
     "iopub.execute_input": "2021-04-13T00:17:14.910275Z",
     "iopub.status.busy": "2021-04-13T00:17:14.909502Z",
     "iopub.status.idle": "2021-04-13T00:17:14.912453Z",
     "shell.execute_reply": "2021-04-13T00:17:14.911856Z"
    },
    "papermill": {
     "duration": 0.011858,
     "end_time": "2021-04-13T00:17:14.912624",
     "exception": false,
     "start_time": "2021-04-13T00:17:14.900766",
     "status": "completed"
    },
    "tags": []
   },
   "outputs": [],
   "source": [
    "import pathlib\n",
    "BASE_DIR = pathlib.Path(BASE_DIR)"
   ]
  },
  {
   "cell_type": "code",
   "execution_count": 5,
   "id": "4c6bfb0d",
   "metadata": {
    "execution": {
     "iopub.execute_input": "2021-04-13T00:17:14.927567Z",
     "iopub.status.busy": "2021-04-13T00:17:14.926917Z",
     "iopub.status.idle": "2021-04-13T00:17:14.928677Z",
     "shell.execute_reply": "2021-04-13T00:17:14.929094Z"
    },
    "papermill": {
     "duration": 0.010973,
     "end_time": "2021-04-13T00:17:14.929281",
     "exception": false,
     "start_time": "2021-04-13T00:17:14.918308",
     "status": "completed"
    },
    "tags": []
   },
   "outputs": [],
   "source": [
    "# !pip install requests requests-html pandas"
   ]
  },
  {
   "cell_type": "code",
   "execution_count": 6,
   "id": "5e296b4d",
   "metadata": {
    "execution": {
     "iopub.execute_input": "2021-04-13T00:17:14.944000Z",
     "iopub.status.busy": "2021-04-13T00:17:14.943408Z",
     "iopub.status.idle": "2021-04-13T00:17:15.415620Z",
     "shell.execute_reply": "2021-04-13T00:17:15.416047Z"
    },
    "papermill": {
     "duration": 0.48115,
     "end_time": "2021-04-13T00:17:15.416227",
     "exception": false,
     "start_time": "2021-04-13T00:17:14.935077",
     "status": "completed"
    },
    "tags": []
   },
   "outputs": [],
   "source": [
    "from dataclasses import dataclass\n",
    "import pathlib\n",
    "import pandas as pd\n",
    "import requests\n",
    "from requests_html import HTML"
   ]
  },
  {
   "cell_type": "code",
   "execution_count": 7,
   "id": "8e037e4e",
   "metadata": {
    "execution": {
     "iopub.execute_input": "2021-04-13T00:17:15.442915Z",
     "iopub.status.busy": "2021-04-13T00:17:15.442161Z",
     "iopub.status.idle": "2021-04-13T00:17:15.444810Z",
     "shell.execute_reply": "2021-04-13T00:17:15.444273Z"
    },
    "papermill": {
     "duration": 0.022753,
     "end_time": "2021-04-13T00:17:15.444981",
     "exception": false,
     "start_time": "2021-04-13T00:17:15.422228",
     "status": "completed"
    },
    "tags": []
   },
   "outputs": [],
   "source": [
    "@dataclass\n",
    "class ScrapeBoxOffice:\n",
    "    base_endpoint:str = \"https://www.boxofficemojo.com/year/world/\"\n",
    "    year:int = None\n",
    "    save_raw:bool = False\n",
    "    save:bool = False\n",
    "    output_dir: str = \".\"\n",
    "    table_selector: str = '.imdb-scroll-table'\n",
    "    table_data = []\n",
    "    table_header_names = []\n",
    "    df = pd.DataFrame()\n",
    "    \n",
    "    @property\n",
    "    def name(self):\n",
    "        return self.year if isinstance(self.year, int) else 'world'\n",
    "    \n",
    "    def get_endpoint(self):\n",
    "        endpoint = self.base_endpoint\n",
    "        if isinstance(self.year, int):\n",
    "            endpoint = f\"{endpoint}{self.year}/\"\n",
    "        return endpoint\n",
    "    \n",
    "    def get_output_dir(self):\n",
    "        return pathlib.Path(self.output_dir)\n",
    "    \n",
    "    def extract_html_str(self, endpoint=None):\n",
    "        url = endpoint if endpoint is not None else self.get_endpoint()\n",
    "        r = requests.get(url, stream=True)\n",
    "        html_text = None\n",
    "        status = r.status_code\n",
    "        if r.status_code == 200:\n",
    "            html_text = r.text\n",
    "            if self.save_raw:\n",
    "                output_fname = f\"{self.name}.html\"\n",
    "                raw_output_dir = self.get_output_dir() / 'html'\n",
    "                raw_output_dir.mkdir(exist_ok=True, parents=True)\n",
    "                output_fname = raw_output_dir / output_fname\n",
    "                with open(f\"{output_fname}\", 'w') as f:\n",
    "                    f.write(html_text)\n",
    "            return html_text, status\n",
    "        return html_text, status\n",
    "    \n",
    "    def parse_html(self, html_str=''):\n",
    "        r_html = HTML(html=html_str)\n",
    "        r_table = r_html.find(self.table_selector)\n",
    "        if len(r_table) == 0:\n",
    "            return None\n",
    "        table_data = []\n",
    "        header_names = []\n",
    "        parsed_table = r_table[0]\n",
    "        rows = parsed_table.find(\"tr\")\n",
    "        header_row = rows[0]\n",
    "        header_cols = header_row.find('th')\n",
    "        header_names = [x.text for x in header_cols]\n",
    "        for row in rows[1:]:\n",
    "            cols = row.find(\"td\")\n",
    "            row_data = []\n",
    "            row_dict_data = {}\n",
    "            for i, col in enumerate(cols):\n",
    "                header_name = header_names[i]\n",
    "                row_data.append(col.text)\n",
    "            table_data.append(row_data)\n",
    "        self.table_data = table_data\n",
    "        self.table_header_names = header_names\n",
    "        return self.table_data, self.table_header_names\n",
    "    \n",
    "    def to_df(self, data=[], columns=[]):\n",
    "        return pd.DataFrame(data, columns=columns)\n",
    "    \n",
    "    def run(self, save=False):\n",
    "        save = self.save if save is False else save\n",
    "        endpoint = self.get_endpoint()\n",
    "        html_str, status = self.extract_html_str(endpoint=endpoint)\n",
    "        if status not in range(200, 299):\n",
    "            raise Exception(f\"Extraction failed, endpoint status {status} at {endpoint}\")\n",
    "        data, headers = self.parse_html(html_str if html_str is not None else '')\n",
    "        df = self.to_df(data=data, columns=headers)\n",
    "        self.df = df\n",
    "        if save:\n",
    "            filepath = self.get_output_dir() / f'{self.name}.csv'\n",
    "            df.to_csv(filepath, index=False)\n",
    "        return self.df"
   ]
  },
  {
   "cell_type": "code",
   "execution_count": 8,
   "id": "72a6d1a6",
   "metadata": {
    "execution": {
     "iopub.execute_input": "2021-04-13T00:17:15.461089Z",
     "iopub.status.busy": "2021-04-13T00:17:15.460474Z",
     "iopub.status.idle": "2021-04-13T00:17:26.156761Z",
     "shell.execute_reply": "2021-04-13T00:17:26.157277Z"
    },
    "papermill": {
     "duration": 10.706329,
     "end_time": "2021-04-13T00:17:26.157457",
     "exception": false,
     "start_time": "2021-04-13T00:17:15.451128",
     "status": "completed"
    },
    "tags": []
   },
   "outputs": [
    {
     "data": {
      "text/html": [
       "<div>\n",
       "<style scoped>\n",
       "    .dataframe tbody tr th:only-of-type {\n",
       "        vertical-align: middle;\n",
       "    }\n",
       "\n",
       "    .dataframe tbody tr th {\n",
       "        vertical-align: top;\n",
       "    }\n",
       "\n",
       "    .dataframe thead th {\n",
       "        text-align: right;\n",
       "    }\n",
       "</style>\n",
       "<table border=\"1\" class=\"dataframe\">\n",
       "  <thead>\n",
       "    <tr style=\"text-align: right;\">\n",
       "      <th></th>\n",
       "      <th>Rank</th>\n",
       "      <th>Release Group</th>\n",
       "      <th>Worldwide</th>\n",
       "      <th>Domestic</th>\n",
       "      <th>%</th>\n",
       "      <th>Foreign</th>\n",
       "      <th>%</th>\n",
       "    </tr>\n",
       "  </thead>\n",
       "  <tbody>\n",
       "    <tr>\n",
       "      <th>0</th>\n",
       "      <td>1</td>\n",
       "      <td>Harry Potter and the Goblet of Fire</td>\n",
       "      <td>$895,921,036</td>\n",
       "      <td>$290,013,036</td>\n",
       "      <td>32.4%</td>\n",
       "      <td>$605,908,000</td>\n",
       "      <td>67.6%</td>\n",
       "    </tr>\n",
       "    <tr>\n",
       "      <th>1</th>\n",
       "      <td>2</td>\n",
       "      <td>Star Wars: Episode III - Revenge of the Sith</td>\n",
       "      <td>$868,352,530</td>\n",
       "      <td>$380,270,577</td>\n",
       "      <td>43.8%</td>\n",
       "      <td>$488,081,953</td>\n",
       "      <td>56.2%</td>\n",
       "    </tr>\n",
       "    <tr>\n",
       "      <th>2</th>\n",
       "      <td>3</td>\n",
       "      <td>The Chronicles of Narnia: The Lion, the Witch ...</td>\n",
       "      <td>$745,013,115</td>\n",
       "      <td>$291,710,957</td>\n",
       "      <td>39.2%</td>\n",
       "      <td>$453,302,158</td>\n",
       "      <td>60.8%</td>\n",
       "    </tr>\n",
       "    <tr>\n",
       "      <th>3</th>\n",
       "      <td>4</td>\n",
       "      <td>War of the Worlds</td>\n",
       "      <td>$603,873,119</td>\n",
       "      <td>$234,280,354</td>\n",
       "      <td>38.8%</td>\n",
       "      <td>$369,592,765</td>\n",
       "      <td>61.2%</td>\n",
       "    </tr>\n",
       "    <tr>\n",
       "      <th>4</th>\n",
       "      <td>5</td>\n",
       "      <td>King Kong</td>\n",
       "      <td>$562,363,449</td>\n",
       "      <td>$218,080,025</td>\n",
       "      <td>38.8%</td>\n",
       "      <td>$344,283,424</td>\n",
       "      <td>61.2%</td>\n",
       "    </tr>\n",
       "  </tbody>\n",
       "</table>\n",
       "</div>"
      ],
      "text/plain": [
       "  Rank                                      Release Group     Worldwide  \\\n",
       "0    1                Harry Potter and the Goblet of Fire  $895,921,036   \n",
       "1    2       Star Wars: Episode III - Revenge of the Sith  $868,352,530   \n",
       "2    3  The Chronicles of Narnia: The Lion, the Witch ...  $745,013,115   \n",
       "3    4                                  War of the Worlds  $603,873,119   \n",
       "4    5                                          King Kong  $562,363,449   \n",
       "\n",
       "       Domestic      %       Foreign      %  \n",
       "0  $290,013,036  32.4%  $605,908,000  67.6%  \n",
       "1  $380,270,577  43.8%  $488,081,953  56.2%  \n",
       "2  $291,710,957  39.2%  $453,302,158  60.8%  \n",
       "3  $234,280,354  38.8%  $369,592,765  61.2%  \n",
       "4  $218,080,025  38.8%  $344,283,424  61.2%  "
      ]
     },
     "execution_count": 8,
     "metadata": {},
     "output_type": "execute_result"
    }
   ],
   "source": [
    "scraper = ScrapeBoxOffice(year=arg_year, save=True, save_raw=True, output_dir=str(BASE_DIR / 'data'))\n",
    "df = scraper.run()\n",
    "df.head()"
   ]
  },
  {
   "cell_type": "code",
   "execution_count": null,
   "id": "88ff4c85",
   "metadata": {
    "papermill": {
     "duration": 0.007139,
     "end_time": "2021-04-13T00:17:26.171341",
     "exception": false,
     "start_time": "2021-04-13T00:17:26.164202",
     "status": "completed"
    },
    "tags": []
   },
   "outputs": [],
   "source": []
  }
 ],
 "metadata": {
  "celltoolbar": "Tags",
  "kernelspec": {
   "display_name": "Python 3",
   "language": "python",
   "name": "python3"
  },
  "language_info": {
   "codemirror_mode": {
    "name": "ipython",
    "version": 3
   },
   "file_extension": ".py",
   "mimetype": "text/x-python",
   "name": "python",
   "nbconvert_exporter": "python",
   "pygments_lexer": "ipython3",
   "version": "3.9.2"
  },
  "papermill": {
   "default_parameters": {},
   "duration": 12.789526,
   "end_time": "2021-04-13T00:17:26.495195",
   "environment_variables": {},
   "exception": null,
   "input_path": "/Users/cfe/Dev/jupyter-api/src/nbs/scrape.ipynb",
   "output_path": "/Users/cfe/Dev/jupyter-api/src/nbs/outputs/scrape-output.ipynb",
   "parameters": {
    "BASE_DIR": "/Users/cfe/Dev/jupyter-api/src",
    "YEAR": "2005",
    "id": null
   },
   "start_time": "2021-04-13T00:17:13.705669",
   "version": "2.3.3"
  }
 },
 "nbformat": 4,
 "nbformat_minor": 5
}