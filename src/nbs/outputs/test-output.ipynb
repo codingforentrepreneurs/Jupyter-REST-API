{
 "cells": [
  {
   "cell_type": "code",
   "execution_count": 1,
   "id": "28cef1bf",
   "metadata": {
    "execution": {
     "iopub.execute_input": "2021-04-13T00:11:50.707336Z",
     "iopub.status.busy": "2021-04-13T00:11:50.706725Z",
     "iopub.status.idle": "2021-04-13T00:11:50.709430Z",
     "shell.execute_reply": "2021-04-13T00:11:50.708923Z"
    },
    "papermill": {
     "duration": 0.015763,
     "end_time": "2021-04-13T00:11:50.709635",
     "exception": false,
     "start_time": "2021-04-13T00:11:50.693872",
     "status": "completed"
    },
    "tags": [
     "parameters"
    ]
   },
   "outputs": [],
   "source": [
    "BASE=\".\""
   ]
  },
  {
   "cell_type": "code",
   "execution_count": 2,
   "id": "17035c52",
   "metadata": {
    "execution": {
     "iopub.execute_input": "2021-04-13T00:11:50.720232Z",
     "iopub.status.busy": "2021-04-13T00:11:50.719617Z",
     "iopub.status.idle": "2021-04-13T00:11:50.721313Z",
     "shell.execute_reply": "2021-04-13T00:11:50.721740Z"
    },
    "papermill": {
     "duration": 0.008562,
     "end_time": "2021-04-13T00:11:50.721921",
     "exception": false,
     "start_time": "2021-04-13T00:11:50.713359",
     "status": "completed"
    },
    "tags": [
     "injected-parameters"
    ]
   },
   "outputs": [],
   "source": [
    "# Parameters\n",
    "id = None\n"
   ]
  },
  {
   "cell_type": "code",
   "execution_count": 3,
   "id": "a9a3eb64",
   "metadata": {
    "execution": {
     "iopub.execute_input": "2021-04-13T00:11:50.732594Z",
     "iopub.status.busy": "2021-04-13T00:11:50.731842Z",
     "iopub.status.idle": "2021-04-13T00:11:50.734308Z",
     "shell.execute_reply": "2021-04-13T00:11:50.734848Z"
    },
    "papermill": {
     "duration": 0.009591,
     "end_time": "2021-04-13T00:11:50.735100",
     "exception": false,
     "start_time": "2021-04-13T00:11:50.725509",
     "status": "completed"
    },
    "tags": []
   },
   "outputs": [
    {
     "name": "stdout",
     "output_type": "stream",
     "text": [
      "True\n"
     ]
    }
   ],
   "source": [
    "import pathlib\n",
    "BASE_DIR = pathlib.Path(BASE)\n",
    "print(BASE_DIR.exists())"
   ]
  },
  {
   "cell_type": "code",
   "execution_count": 4,
   "id": "da1f192c",
   "metadata": {
    "execution": {
     "iopub.execute_input": "2021-04-13T00:11:50.747392Z",
     "iopub.status.busy": "2021-04-13T00:11:50.746698Z",
     "iopub.status.idle": "2021-04-13T00:11:50.749017Z",
     "shell.execute_reply": "2021-04-13T00:11:50.749477Z"
    },
    "papermill": {
     "duration": 0.00934,
     "end_time": "2021-04-13T00:11:50.749652",
     "exception": false,
     "start_time": "2021-04-13T00:11:50.740312",
     "status": "completed"
    },
    "tags": []
   },
   "outputs": [
    {
     "name": "stdout",
     "output_type": "stream",
     "text": [
      "BASE\t .\n",
      "hello world\n"
     ]
    }
   ],
   "source": [
    "print('BASE\\t', BASE)\n",
    "print(\"hello world\")"
   ]
  },
  {
   "cell_type": "code",
   "execution_count": null,
   "id": "c1415c43",
   "metadata": {
    "papermill": {
     "duration": 0.003941,
     "end_time": "2021-04-13T00:11:50.761031",
     "exception": false,
     "start_time": "2021-04-13T00:11:50.757090",
     "status": "completed"
    },
    "tags": []
   },
   "outputs": [],
   "source": []
  }
 ],
 "metadata": {
  "celltoolbar": "Tags",
  "kernelspec": {
   "display_name": "Python 3",
   "language": "python",
   "name": "python3"
  },
  "language_info": {
   "codemirror_mode": {
    "name": "ipython",
    "version": 3
   },
   "file_extension": ".py",
   "mimetype": "text/x-python",
   "name": "python",
   "nbconvert_exporter": "python",
   "pygments_lexer": "ipython3",
   "version": "3.9.2"
  },
  "papermill": {
   "default_parameters": {},
   "duration": 1.240088,
   "end_time": "2021-04-13T00:11:50.979750",
   "environment_variables": {},
   "exception": null,
   "input_path": "/Users/cfe/Dev/jupyter-api/src/nbs/test.ipynb",
   "output_path": "/Users/cfe/Dev/jupyter-api/src/nbs/outputs/test-output.ipynb",
   "parameters": {
    "id": null
   },
   "start_time": "2021-04-13T00:11:49.739662",
   "version": "2.3.3"
  }
 },
 "nbformat": 4,
 "nbformat_minor": 5
}